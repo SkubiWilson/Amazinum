{
 "cells": [
  {
   "cell_type": "code",
   "execution_count": 1,
   "id": "9c1f3945-9b3e-4c48-b44d-23b205ac609a",
   "metadata": {},
   "outputs": [
    {
     "name": "stdout",
     "output_type": "stream",
     "text": [
      "Accuracy: 0.7350746268656716\n",
      "   PassengerId  Survived\n",
      "0          892         0\n",
      "1          893         0\n",
      "2          894         0\n",
      "3          895         1\n",
      "4          896         1\n",
      "5          897         0\n",
      "6          898         0\n",
      "7          899         0\n",
      "8          900         1\n",
      "9          901         0\n"
     ]
    }
   ],
   "source": [
    "\n",
    "import pandas as pd\n",
    "from sklearn.ensemble import RandomForestClassifier\n",
    "from sklearn.model_selection import train_test_split\n",
    "from sklearn.metrics import accuracy_score\n",
    "\n",
    "class titanic:\n",
    "    def __init__(self):\n",
    "        self.train_dt = pd.read_csv('data/train.csv')\n",
    "        self.test_dt = pd.read_csv('data/test.csv')\n",
    "\n",
    "    def data_pred(self):\n",
    "        self.train_dt['Age'].fillna(self.train_dt['Age'].median(), inplace=True)\n",
    "        self.train_dt['Embarked'].fillna(self.train_dt['Embarked'].mode()[0], inplace=True)\n",
    "        self.train_dt['Sex'] = self.train_dt['Sex'].map({'male': 0, 'female': 1})\n",
    "        self.train_dt['Embarked'] = self.train_dt['Embarked'].map({'S': 0, 'C': 1, 'Q': 2})\n",
    "        self.features = ['Pclass', 'Sex', 'Age', 'SibSp', 'Parch', 'Fare', 'Embarked']\n",
    "        self.X = self.train_dt[self.features]\n",
    "        self.y = self.train_dt['Survived']\n",
    "\n",
    "    def model_df(self):\n",
    "        self.X_train, self.X_val, self.y_train, self.y_val = train_test_split(self.X, self.y, test_size=0.3, random_state=44)\n",
    "        self.model = RandomForestClassifier(n_estimators=100, random_state=44)\n",
    "        self.model.fit(self.X_train, self.y_train)\n",
    "        y_pred = self.model.predict(self.X_val)\n",
    "        print(\"Accuracy:\", accuracy_score(self.y_val, y_pred))\n",
    "\n",
    "    def survivor(self):\n",
    "        self.test_dt['Age'].fillna(self.train_dt['Age'].median(), inplace=True)\n",
    "        self.test_dt['Fare'].fillna(self.train_dt['Fare'].median(), inplace=True)\n",
    "        self.test_dt['Sex'] = self.test_dt['Sex'].map({'male': 0, 'female': 1})  # <-- виправлення\n",
    "        self.test_dt['Embarked'] = self.test_dt['Embarked'].map({'S': 0, 'C': 1, 'Q': 2})\n",
    "        X_test = self.test_dt[self.features]\n",
    "        predictions = self.model.predict(X_test)\n",
    "        submission = pd.DataFrame({\n",
    "            'PassengerId': self.test_dt['PassengerId'],\n",
    "            'Survived': predictions\n",
    "        })\n",
    "        submission.to_csv('submss.csv', index=False)\n",
    "\n",
    "        print(submission.head(10))\n",
    "\n",
    "\n",
    "\n",
    "\n",
    "\n",
    "launch_ship = titanic()\n",
    "launch_ship.data_pred()\n",
    "launch_ship.model_df()\n",
    "launch_ship.survivor()"
   ]
  },
  {
   "cell_type": "code",
   "execution_count": null,
   "id": "be20ff31-dec1-4dde-8c21-403caf94ef0f",
   "metadata": {},
   "outputs": [],
   "source": []
  }
 ],
 "metadata": {
  "kernelspec": {
   "display_name": "Python 3 (ipykernel)",
   "language": "python",
   "name": "python3"
  },
  "language_info": {
   "codemirror_mode": {
    "name": "ipython",
    "version": 3
   },
   "file_extension": ".py",
   "mimetype": "text/x-python",
   "name": "python",
   "nbconvert_exporter": "python",
   "pygments_lexer": "ipython3",
   "version": "3.12.0"
  }
 },
 "nbformat": 4,
 "nbformat_minor": 5
}
