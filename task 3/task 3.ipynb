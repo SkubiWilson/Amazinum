{
 "cells": [
  {
   "cell_type": "code",
   "execution_count": 81,
   "id": "49a6b8c4-721f-48b8-bf59-89d8b6d2ef0e",
   "metadata": {},
   "outputs": [],
   "source": [
    "import numpy as np\n",
    "import pandas as pd\n",
    "\n",
    "energy = pd.read_excel(\"Energy Indicators.xls\", skiprows=17, skipfooter=38, usecols=\"C:F\")\n",
    "energy.columns = ['Country', 'Energy Supply', 'Energy Supply per Capital', '% Renewable']\n",
    "energy.replace('...', np.nan, inplace=True)\n",
    "energy['Energy Supply'] *= 1_000_000\n",
    "energy['Country'] = energy['Country'].str.replace(r'\\d+', '', regex=True)\n",
    "energy['Country'] = energy['Country'].str.replace(r'\\(.*\\)', '', regex=True).str.strip()\n",
    "\n",
    "country_renames = {\n",
    "    \"Republic of Korea\": \"South Korea\",\n",
    "    \"United States of America\": \"United States\",\n",
    "    \"United Kingdom of Great Britain and Northern Ireland\": \"United Kingdom\",\n",
    "    \"China, Hong Kong Special Administrative Region\": \"Hong Kong\"\n",
    "}\n",
    "\n",
    "energy['Country'] = energy['Country'].replace(country_renames)"
   ]
  },
  {
   "cell_type": "code",
   "execution_count": 82,
   "id": "170877dd-597e-4ee7-84bb-5fe7ffc33ef8",
   "metadata": {},
   "outputs": [],
   "source": [
    "\n",
    "energy = pd.read_excel(\"Energy Indicators.xls\", skiprows=17, skipfooter=38, usecols=\"C:F\")\n",
    "\n",
    "\n",
    "energy.columns = ['Country', 'Energy Supply', 'Energy Supply per Capita', '% Renewable']\n",
    "\n",
    "\n",
    "energy.replace('...', np.nan, inplace=True)\n",
    "\n",
    "\n",
    "energy['Energy Supply'] *= 1_000_000\n",
    "\n",
    "\n",
    "energy['Country'] = energy['Country'].str.replace(r'\\d+', '', regex=True)  \n",
    "energy['Country'] = energy['Country'].str.replace(r'\\(.*\\)', '', regex=True).str.strip()  \n",
    "\n",
    "\n",
    "country_renames = {\n",
    "    \"Republic of Korea\": \"South Korea\",\n",
    "    \"United States of America\": \"United States\",\n",
    "    \"United Kingdom of Great Britain and Northern Ireland\": \"United Kingdom\",\n",
    "    \"China, Hong Kong Special Administrative Region\": \"Hong Kong\"\n",
    "}\n",
    "energy['Country'] = energy['Country'].replace(country_renames)\n"
   ]
  },
  {
   "cell_type": "code",
   "execution_count": 83,
   "id": "a6449e18-f785-4bee-b620-7154028cc3f4",
   "metadata": {},
   "outputs": [],
   "source": [
    "\n",
    "gdp = pd.read_csv(\"world_bank.csv\", skiprows=4)\n",
    "\n",
    "\n",
    "gdp_renames = {\n",
    "    \"Korea, Rep.\": \"South Korea\",\n",
    "    \"Iran, Islamic Rep.\": \"Iran\",\n",
    "    \"Hong Kong SAR, China\": \"Hong Kong\"\n",
    "}\n",
    "gdp['Country Name'] = gdp['Country Name'].replace(gdp_renames)\n",
    "\n",
    "\n",
    "gdp = gdp[['Country Name', '2006', '2007', '2008', '2009', '2010', '2011', '2012', '2013', '2014', '2015']]\n",
    "gdp.rename(columns={'Country Name': 'Country'}, inplace=True)\n"
   ]
  },
  {
   "cell_type": "code",
   "execution_count": 84,
   "id": "18b7c174-3801-420e-8425-3ac3a51d387d",
   "metadata": {},
   "outputs": [],
   "source": [
    "\n",
    "gdp = pd.read_csv(\"world_bank.csv\", skiprows=4)\n",
    "\n",
    "\n",
    "gdp_renames = {\n",
    "    \"Korea, Rep.\": \"South Korea\",\n",
    "    \"Iran, Islamic Rep.\": \"Iran\",\n",
    "    \"Hong Kong SAR, China\": \"Hong Kong\"\n",
    "}\n",
    "gdp['Country Name'] = gdp['Country Name'].replace(gdp_renames)\n",
    "\n",
    "\n",
    "gdp = gdp[['Country Name', '2006', '2007', '2008', '2009', '2010', '2011', '2012', '2013', '2014', '2015']]\n",
    "gdp.rename(columns={'Country Name': 'Country'}, inplace=True)\n"
   ]
  },
  {
   "cell_type": "code",
   "execution_count": 85,
   "id": "4fec0114-a296-456c-a505-397f05cd7d5d",
   "metadata": {},
   "outputs": [],
   "source": [
    "scimen = pd.read_excel(\"scimagojr country rank 1996-2023.xlsx\")\n",
    "\n",
    "\n",
    "scimen = scimen[scimen['Rank'] <= 15]\n"
   ]
  },
  {
   "cell_type": "code",
   "execution_count": 86,
   "id": "5286e535-1a32-4d6f-91c2-af0062c8703f",
   "metadata": {},
   "outputs": [],
   "source": [
    "\n",
    "df = scimen.merge(energy, on='Country').merge(gdp, on='Country')\n",
    "\n",
    "\n",
    "df.set_index('Country', inplace=True)\n",
    "\n",
    "\n",
    "df = df[['Rank', 'Documents', 'Citable documents', 'Citations', 'Self-citations', \n",
    "         'Citations per document', 'H index', 'Energy Supply', 'Energy Supply per Capita', \n",
    "         '% Renewable', '2006', '2007', '2008', '2009', '2010', '2011', '2012', '2013', \n",
    "         '2014', '2015']]\n"
   ]
  },
  {
   "cell_type": "code",
   "execution_count": 109,
   "id": "e87a8603-99b1-46b7-ac60-c267f528771e",
   "metadata": {},
   "outputs": [],
   "source": [
    "def answer_one():\n",
    "    \n",
    "    energy = pd.read_excel(\"Energy Indicators.xls\", skiprows=17, skipfooter=38, usecols=\"C:F\")\n",
    "    energy.columns = ['Country', 'Energy Supply', 'Energy Supply per Capita', '% Renewable']\n",
    "    energy.replace('...', np.nan, inplace=True)\n",
    "    energy['Energy Supply'] *= 1_000_000\n",
    "    energy['Country'] = energy['Country'].str.replace(r'\\d+', '', regex=True)\n",
    "    energy['Country'] = energy['Country'].str.replace(r'\\(.*\\)', '', regex=True).str.strip()\n",
    "    country_renames = {\n",
    "        \"Republic of Korea\": \"South Korea\",\n",
    "        \"United States of America\": \"United States\",\n",
    "        \"United Kingdom of Great Britain and Northern Ireland\": \"United Kingdom\",\n",
    "        \"China, Hong Kong Special Administrative Region\": \"Hong Kong\"\n",
    "    }\n",
    "    energy['Country'] = energy['Country'].replace(country_renames)\n",
    "\n",
    "   \n",
    "    gdp = pd.read_csv(\"world_bank.csv\", skiprows=4)\n",
    "    gdp_renames = {\n",
    "        \"Korea, Rep.\": \"South Korea\",\n",
    "        \"Iran, Islamic Rep.\": \"Iran\",\n",
    "        \"Hong Kong SAR, China\": \"Hong Kong\"\n",
    "    }\n",
    "    gdp['Country Name'] = gdp['Country Name'].replace(gdp_renames)\n",
    "    gdp = gdp[['Country Name', '2006', '2007', '2008', '2009', '2010', '2011', '2012', '2013', '2014', '2015']]\n",
    "    gdp.rename(columns={'Country Name': 'Country'}, inplace=True)\n",
    "\n",
    "    \n",
    "    scimen = pd.read_excel(\"scimagojr country rank 1996-2023.xlsx\")\n",
    "    scimen = scimen[scimen['Rank'] <= 15]\n",
    "\n",
    "   \n",
    "    df = scimen.merge(energy, on='Country').merge(gdp, on='Country')\n",
    "    df.set_index('Country', inplace=True)\n",
    "\n",
    "    \n",
    "    df = df[['Rank', 'Documents', 'Citable documents', 'Citations', 'Self-citations', \n",
    "             'Citations per document', 'H index', 'Energy Supply', 'Energy Supply per Capita', \n",
    "             '% Renewable', '2006', '2007', '2008', '2009', '2010', '2011', '2012', '2013', \n",
    "             '2014', '2015']]\n",
    "    \n",
    "    return df\n"
   ]
  },
  {
   "cell_type": "code",
   "execution_count": 88,
   "id": "d855a779-0a67-4981-903b-c99ce5415975",
   "metadata": {},
   "outputs": [
    {
     "name": "stdout",
     "output_type": "stream",
     "text": [
      "                    Rank  Documents  Citable documents  Citations  \\\n",
      "Country                                                             \n",
      "China                  1     402188             400158    5077232   \n",
      "United States          2     208042             203356    3540288   \n",
      "India                  3      81853              79757     968523   \n",
      "Japan                  4      58342              57735     717946   \n",
      "United Kingdom         5      56288              54713    1095371   \n",
      "Germany                6      50906              49773     777362   \n",
      "Russian Federation     7      46186              45868     217996   \n",
      "Canada                 8      41209              40390     915491   \n",
      "Italy                  9      38700              36909     639473   \n",
      "South Korea           10      38362              38046     618762   \n",
      "Iran                  11      32080              31725     634135   \n",
      "France                12      30810              30139     547122   \n",
      "Spain                 13      29840              29156     614087   \n",
      "Australia             14      27993              27254     608021   \n",
      "Brazil                15      27316              26888     307607   \n",
      "\n",
      "                    Self-citations  Citations per document  H index  \\\n",
      "Country                                                               \n",
      "China                      3511673                   12.62      343   \n",
      "United States              1004877                   17.02      458   \n",
      "India                       369256                   11.83      237   \n",
      "Japan                       154848                   12.31      228   \n",
      "United Kingdom              179764                   19.46      293   \n",
      "Germany                     160302                   15.27      252   \n",
      "Russian Federation           96688                    4.72      112   \n",
      "Canada                      142691                   22.22      284   \n",
      "Italy                       147302                   16.52      209   \n",
      "South Korea                 105419                   16.13      198   \n",
      "Iran                        177894                   19.77      198   \n",
      "France                       89958                   17.76      221   \n",
      "Spain                       104845                   20.58      216   \n",
      "Australia                    84747                   21.72      234   \n",
      "Brazil                       71778                   11.26      154   \n",
      "\n",
      "                    Energy Supply  Energy Supply per Capita  % Renewable  \\\n",
      "Country                                                                    \n",
      "China                1.271910e+11                      93.0    19.754910   \n",
      "United States        9.083800e+10                     286.0    11.570980   \n",
      "India                3.319500e+10                      26.0    14.969080   \n",
      "Japan                1.898400e+10                     149.0    10.232820   \n",
      "United Kingdom       7.920000e+09                     124.0    10.600470   \n",
      "Germany              1.326100e+10                     165.0    17.901530   \n",
      "Russian Federation   3.070900e+10                     214.0    17.288680   \n",
      "Canada               1.043100e+10                     296.0    61.945430   \n",
      "Italy                6.530000e+09                     109.0    33.667230   \n",
      "South Korea          1.100700e+10                     221.0     2.279353   \n",
      "Iran                 9.172000e+09                     119.0     5.707721   \n",
      "France               1.059700e+10                     166.0    17.020280   \n",
      "Spain                4.923000e+09                     106.0    37.968590   \n",
      "Australia            5.386000e+09                     231.0    11.810810   \n",
      "Brazil               1.214900e+10                      59.0    69.648030   \n",
      "\n",
      "                            2006          2007          2008          2009  \\\n",
      "Country                                                                      \n",
      "China               2.752119e+12  3.550328e+12  4.594337e+12  5.101691e+12   \n",
      "United States       1.381558e+13  1.447423e+13  1.476986e+13  1.447807e+13   \n",
      "India               9.402599e+11  1.216736e+12  1.198895e+12  1.341888e+12   \n",
      "Japan               4.601663e+12  4.579751e+12  5.106679e+12  5.289493e+12   \n",
      "United Kingdom      2.708442e+12  3.090510e+12  2.929412e+12  2.412840e+12   \n",
      "Germany             3.046309e+12  3.484057e+12  3.808786e+12  3.479801e+12   \n",
      "Russian Federation  9.899321e+11  1.299703e+12  1.660848e+12  1.222646e+12   \n",
      "Canada              1.319265e+12  1.468820e+12  1.552990e+12  1.374625e+12   \n",
      "Italy               1.958564e+12  2.222524e+12  2.417508e+12  2.209484e+12   \n",
      "South Korea         1.053217e+12  1.172614e+12  1.047339e+12  9.439419e+11   \n",
      "Iran                2.656022e+11  3.497366e+11  4.060709e+11  4.140591e+11   \n",
      "France              2.317862e+12  2.655817e+12  2.926803e+12  2.700076e+12   \n",
      "Spain               1.261847e+12  1.476746e+12  1.636115e+12  1.496588e+12   \n",
      "Australia           7.484176e+11  8.550075e+11  1.056112e+12  9.287621e+11   \n",
      "Brazil              1.107627e+12  1.397114e+12  1.695855e+12  1.666996e+12   \n",
      "\n",
      "                            2010          2011          2012          2013  \\\n",
      "Country                                                                      \n",
      "China               6.087192e+12  7.551546e+12  8.532185e+12  9.570471e+12   \n",
      "United States       1.504897e+13  1.559973e+13  1.625397e+13  1.688068e+13   \n",
      "India               1.675616e+12  1.823052e+12  1.827638e+12  1.856722e+12   \n",
      "Japan               5.759072e+12  6.233147e+12  6.272363e+12  5.212328e+12   \n",
      "United Kingdom      2.485483e+12  2.663806e+12  2.707090e+12  2.784854e+12   \n",
      "Germany             3.468154e+12  3.824829e+12  3.597897e+12  3.808086e+12   \n",
      "Russian Federation  1.524917e+12  2.045923e+12  2.208294e+12  2.292470e+12   \n",
      "Canada              1.617343e+12  1.793327e+12  1.828366e+12  1.846597e+12   \n",
      "Italy               2.144936e+12  2.306974e+12  2.097929e+12  2.153226e+12   \n",
      "South Korea         1.143672e+12  1.253290e+12  1.278047e+12  1.370633e+12   \n",
      "Iran                4.870696e+11  6.290823e+11  6.440193e+11  5.003998e+11   \n",
      "France              2.646230e+12  2.870409e+12  2.683007e+12  2.816078e+12   \n",
      "Spain               1.427989e+12  1.487569e+12  1.330995e+12  1.362187e+12   \n",
      "Australia           1.148838e+12  1.398611e+12  1.547532e+12  1.577123e+12   \n",
      "Brazil              2.208838e+12  2.616156e+12  2.465228e+12  2.472820e+12   \n",
      "\n",
      "                            2014          2015  \n",
      "Country                                         \n",
      "China               1.047562e+13  1.106157e+13  \n",
      "United States       1.760814e+13  1.829502e+13  \n",
      "India               2.039126e+12  2.103588e+12  \n",
      "Japan               4.896994e+12  4.444931e+12  \n",
      "United Kingdom      3.064708e+12  2.927911e+12  \n",
      "Germany             3.965801e+12  3.423568e+12  \n",
      "Russian Federation  2.059242e+12  1.363482e+12  \n",
      "Canada              1.805750e+12  1.556509e+12  \n",
      "Italy               2.173256e+12  1.845428e+12  \n",
      "South Korea         1.484489e+12  1.466039e+12  \n",
      "Iran                4.622848e+11  4.091917e+11  \n",
      "France              2.861236e+12  2.442483e+12  \n",
      "Spain               1.380245e+12  1.206165e+12  \n",
      "Australia           1.468265e+12  1.351296e+12  \n",
      "Brazil              2.456044e+12  1.802212e+12  \n"
     ]
    }
   ],
   "source": [
    "df = answer_one()\n",
    "print(df)"
   ]
  },
  {
   "cell_type": "code",
   "execution_count": 89,
   "id": "ebbcdf2d-4b3d-42cd-853e-2c4447d7509a",
   "metadata": {},
   "outputs": [],
   "source": [
    "###Question 2"
   ]
  },
  {
   "cell_type": "code",
   "execution_count": 90,
   "id": "802bf946-ae14-4f20-be8e-944c417b1910",
   "metadata": {},
   "outputs": [
    {
     "name": "stdout",
     "output_type": "stream",
     "text": [
      "                Country        avgGDP\n",
      "251       United States  1.572243e+13\n",
      "40                China  6.927707e+12\n",
      "119               Japan  5.239642e+12\n",
      "55              Germany  3.590729e+12\n",
      "81       United Kingdom  2.777505e+12\n",
      "77               France  2.692000e+12\n",
      "116               Italy  2.152983e+12\n",
      "29               Brazil  1.988889e+12\n",
      "202  Russian Federation  1.666746e+12\n",
      "35               Canada  1.616359e+12\n",
      "109               India  1.602352e+12\n",
      "70                Spain  1.406644e+12\n",
      "126         South Korea  1.221328e+12\n",
      "13            Australia  1.207997e+12\n",
      "154              Mexico  1.172240e+12\n"
     ]
    }
   ],
   "source": [
    "\n",
    "def ans_2():\n",
    "    file_path = \"world_bank.csv\"  \n",
    "    gdp = pd.read_csv(file_path, skiprows=4)\n",
    "\n",
    "    gdp_renames = {\n",
    "    \"Korea, Rep.\": \"South Korea\",\n",
    "    \"Iran, Islamic Rep.\": \"Iran\",\n",
    "    \"Hong Kong SAR, China\": \"Hong Kong\"\n",
    "    }\n",
    "    gdp['Country Name'] = gdp['Country Name'].replace(gdp_renames)\n",
    "\n",
    "\n",
    "    gdp = gdp[['Country Name', '2006', '2007', '2008', '2009', '2010', '2011', '2012', '2013', '2014', '2015']]\n",
    "    gdp.rename(columns={'Country Name': 'Country'}, inplace=True)\n",
    "\n",
    "\n",
    "    gdp['avgGDP'] = gdp.iloc[:, 1:].mean(axis=1, skipna=True)\n",
    "\n",
    "\n",
    "    excluded_keywords = [\"World\", \"income\", \"OECD\", \"dividend\", \"IBRD\", \"IDA\", \"Asia\", \"Pacific\", \"America\", \"Europe\", \"Euro area\", \"Middle East & North Africa\", \"Fragile and conflict affected situations\",\"Sub-Saharan Africa\"]\n",
    "    filtered_gdp = gdp[~gdp['Country'].str.contains('|'.join(excluded_keywords), case=False, na=False)]\n",
    "\n",
    "\n",
    "    top_15_countries_gdp = filtered_gdp[['Country', 'avgGDP']].nlargest(15, 'avgGDP')\n",
    "\n",
    "    return top_15_countries_gdp\n",
    "\n",
    "top_15_countries_gdp = ans_2()\n",
    "\n",
    "print(top_15_countries_gdp)\n"
   ]
  },
  {
   "cell_type": "code",
   "execution_count": null,
   "id": "6e144910-4c96-4c9a-b049-23d6d452782f",
   "metadata": {},
   "outputs": [],
   "source": [
    "###Question 3"
   ]
  },
  {
   "cell_type": "code",
   "execution_count": 91,
   "id": "347620f1-3d0c-48ef-a5b2-adb6cc24204e",
   "metadata": {},
   "outputs": [
    {
     "name": "stdout",
     "output_type": "stream",
     "text": [
      "Country with 6th largest avg GDP: France\n",
      "GDP in 2006: 2317861544690.82, GDP in 2015: 2442483452642.5\n",
      "GDP Change over 10 years: 124621907951.68018\n"
     ]
    }
   ],
   "source": [
    "def ans_3():\n",
    "    file_path = \"world_bank.csv\" \n",
    "    gdp = pd.read_csv(file_path, skiprows=4)\n",
    "\n",
    "    top_15 = ans_2()\n",
    "    sixth_largest_country = top_15.iloc[5]['Country']  # 6-та країна у списку\n",
    "    print(f\"Country with 6th largest avg GDP: {sixth_largest_country}\")\n",
    "\n",
    "   \n",
    "    country_gdp = gdp[gdp['Country Name'] == sixth_largest_country]\n",
    "    gdp_2006 = float(country_gdp['2006'].iloc[0])\n",
    "    gdp_2015 = float(country_gdp['2015'].iloc[0])\n",
    "    \n",
    "    print(f\"GDP in 2006: {gdp_2006}, GDP in 2015: {gdp_2015}\")\n",
    "    gdp_change = gdp_2015 - gdp_2006\n",
    "    \n",
    "    return gdp_change\n",
    "\n",
    "gdp_difference = ans_3()\n",
    "print(f\"GDP Change over 10 years: {gdp_difference}\")"
   ]
  },
  {
   "cell_type": "code",
   "execution_count": null,
   "id": "98e2cf2f-f06d-4ca9-bb86-e1a86985b06d",
   "metadata": {},
   "outputs": [],
   "source": [
    "###Question 4"
   ]
  },
  {
   "cell_type": "code",
   "execution_count": 92,
   "id": "3c5dab49-179d-447f-a9c0-40fdba24a862",
   "metadata": {},
   "outputs": [
    {
     "name": "stdout",
     "output_type": "stream",
     "text": [
      "Country with highest citation ratio: ('Antigua and Barbuda', 1.0)\n"
     ]
    }
   ],
   "source": [
    "def ans_4():\n",
    "    file_path = \"scimagojr country rank 1996-2023.xlsx\"  \n",
    "    df = pd.read_excel(file_path)\n",
    "    \n",
    "    \n",
    "    df.rename(columns={'Self-citations': 'SelfCitations', 'Citations': 'TotalCitations', 'Country': 'Country'}, inplace=True)\n",
    "    \n",
    "    \n",
    "    df['Citation Ratio'] = df['SelfCitations'] / df['TotalCitations']\n",
    "    \n",
    "    \n",
    "    max_ratio_row = df.loc[df['Citation Ratio'].idxmax()]\n",
    "    max_country = max_ratio_row['Country']\n",
    "    max_ratio = max_ratio_row['Citation Ratio']\n",
    "    \n",
    "    return (max_country, max_ratio)\n",
    "\n",
    "\n",
    "max_citation_country = ans_4()\n",
    "print(f\"Country with highest citation ratio: {max_citation_country}\")"
   ]
  },
  {
   "cell_type": "code",
   "execution_count": null,
   "id": "581eb11d-add3-43a3-a4f9-b2f49e483bf1",
   "metadata": {},
   "outputs": [],
   "source": [
    "###Question 5"
   ]
  },
  {
   "cell_type": "code",
   "execution_count": 93,
   "id": "eacdfddf-0c11-4d31-af4c-15f5a8945b7e",
   "metadata": {},
   "outputs": [
    {
     "name": "stdout",
     "output_type": "stream",
     "text": [
      "Third most populous country: United States of America\n"
     ]
    }
   ],
   "source": [
    "def ans_5():\n",
    "    file_path = \"Energy Indicators.xls\"\n",
    "    \n",
    "    df = pd.read_excel(file_path, skiprows=17, skipfooter=38, usecols=\"C:F\", na_values=\"...\")\n",
    "    df.columns = ['Country', 'Energy Supply', 'Energy Supply per Capita', '% Renewable']\n",
    "    df['Country'] = df['Country'].str.replace(r\"\\d+\", \"\", regex=True).str.replace(r\" \\(.*\\)\", \"\", regex=True)\n",
    "    df['Estimated Population'] = df['Energy Supply'] / df['Energy Supply per Capita']\n",
    "    third_most_populous = df[['Country', 'Estimated Population']].nlargest(3, 'Estimated Population').iloc[2]\n",
    "    \n",
    "    return third_most_populous['Country']\n",
    "\n",
    "\n",
    "third_populous_country = ans_5()\n",
    "print(f\"Third most populous country: {third_populous_country}\")\n"
   ]
  },
  {
   "cell_type": "code",
   "execution_count": null,
   "id": "09c764c6-0f19-4cd2-b05b-9e157a3956e4",
   "metadata": {},
   "outputs": [],
   "source": [
    "###Question 6"
   ]
  },
  {
   "cell_type": "code",
   "execution_count": 112,
   "id": "faece55d-94f9-45b6-8764-288692cae4f8",
   "metadata": {},
   "outputs": [
    {
     "name": "stdout",
     "output_type": "stream",
     "text": [
      "Correlation: -0.10595266080707273\n"
     ]
    }
   ],
   "source": [
    "def ans_6():\n",
    "    energy_file = \"Energy Indicators.xlsx\"\n",
    "    scimago_file = \"scimagojr country rank 1996-2023.xlsx\"\n",
    "\n",
    "    energy_df = pd.ExcelFile(energy_file)\n",
    "    scimago_df = pd.ExcelFile(scimago_file)\n",
    "\n",
    "\n",
    "    energy_data = energy_df.parse(\"Energy\", skiprows=17)\n",
    "    energy_data = energy_data.rename(columns={\"Unnamed: 2\": \"Country\", \"Petajoules\": \"Energy Supply\", \"Gigajoules\": \"Energy Supply per Capita\"})\n",
    "    energy_data = energy_data[[\"Country\", \"Energy Supply\", \"Energy Supply per Capita\"]].dropna()\n",
    "    energy_data[\"Energy Supply\"] = pd.to_numeric(energy_data[\"Energy Supply\"], errors=\"coerce\")\n",
    "    energy_data[\"Energy Supply per Capita\"] = pd.to_numeric(energy_data[\"Energy Supply per Capita\"], errors=\"coerce\")\n",
    "    energy_data = energy_data.dropna()\n",
    "\n",
    "\n",
    "    scimago_data = scimago_df.parse(\"Sheet1\")\n",
    "    scimago_data[\"Citable documents per capita\"] = scimago_data[\"Citable documents\"] / scimago_data[\"Documents\"]\n",
    "\n",
    "\n",
    "    merged_data = pd.merge(scimago_data, energy_data, on=\"Country\", how=\"inner\")\n",
    "\n",
    "\n",
    "    correlation = merged_data[\"Citable documents per capita\"].corr(merged_data[\"Energy Supply per Capita\"], method=\"pearson\")\n",
    "    return(correlation)\n",
    "correlation = ans_6()\n",
    "print(\"Correlation:\", correlation)\n"
   ]
  },
  {
   "cell_type": "code",
   "execution_count": null,
   "id": "a039e8aa-c9f2-4c11-9b3c-d0703a686463",
   "metadata": {},
   "outputs": [],
   "source": [
    "###Question 7"
   ]
  },
  {
   "cell_type": "code",
   "execution_count": 115,
   "id": "97ed9196-f9b6-4459-934d-b2264449a310",
   "metadata": {},
   "outputs": [
    {
     "name": "stdout",
     "output_type": "stream",
     "text": [
      "               count          sum         mean  std\n",
      "Continent                                          \n",
      "Asia               1  1276.730769  1276.730769  NaN\n",
      "Europe             1    80.369697    80.369697  NaN\n",
      "North America      1    35.239865    35.239865  NaN\n",
      "South America      1   205.915254   205.915254  NaN\n"
     ]
    }
   ],
   "source": [
    "\n",
    "ContinentDict  = {\n",
    "    'China':'Asia',\n",
    "    'United States':'North America',\n",
    "    'India':'Asia',\n",
    "    'Japan':'Asia',\n",
    "    'United Kingdom':'Europe',\n",
    "    'Canada':'North America',\n",
    "    'Germany':'Europe',\n",
    "    'France':'Europe',\n",
    "    'Italy':'Europe',\n",
    "    'Brazil':'South America',\n",
    "    'Russia':'Europe',\n",
    "    'Spain':'Europe',\n",
    "    'Australia':'Australia',\n",
    "    'South Korea':'Asia'\n",
    "}\n",
    "\n",
    "def ans_7():\n",
    "    merged_data[\"Estimated Population\"] = merged_data[\"Energy Supply\"] / merged_data[\"Energy Supply per Capita\"]\n",
    "    merged_data[\"Continent\"] = merged_data[\"Country\"].map(ContinentDict)\n",
    "    continent_stats = merged_data.groupby(\"Continent\")[\"Estimated Population\"].agg([\"count\", \"sum\", \"mean\", \"std\"])\n",
    "    return(continent_stats)\n",
    "\n",
    "continent_stats = ans_7()\n",
    "print(continent_stats)\n"
   ]
  },
  {
   "cell_type": "code",
   "execution_count": null,
   "id": "7783efdc-f55e-4f1a-9e16-e76b73f7860c",
   "metadata": {},
   "outputs": [],
   "source": []
  }
 ],
 "metadata": {
  "kernelspec": {
   "display_name": "Python 3 (ipykernel)",
   "language": "python",
   "name": "python3"
  },
  "language_info": {
   "codemirror_mode": {
    "name": "ipython",
    "version": 3
   },
   "file_extension": ".py",
   "mimetype": "text/x-python",
   "name": "python",
   "nbconvert_exporter": "python",
   "pygments_lexer": "ipython3",
   "version": "3.12.0"
  }
 },
 "nbformat": 4,
 "nbformat_minor": 5
}
