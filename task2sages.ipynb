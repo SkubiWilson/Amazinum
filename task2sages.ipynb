{
 "cells": [
  {
   "cell_type": "code",
   "execution_count": null,
   "id": "fcaa83fc-7981-43db-92ef-29ff556bf2e9",
   "metadata": {},
   "outputs": [],
   "source": [
    "Завдання про мудреців"
   ]
  },
  {
   "cell_type": "code",
   "execution_count": 4,
   "id": "05e08913-77c3-4d09-9807-5c5364c9b007",
   "metadata": {},
   "outputs": [
    {
     "name": "stdout",
     "output_type": "stream",
     "text": [
      "Можливі пари, що задовольняють умові: [(4, 13)]\n"
     ]
    }
   ],
   "source": [
    "def generate_pairs(max_number=100):\n",
    "\n",
    "    return [(x, y) for x in range(2, max_number + 1)\n",
    "                   for y in range(x, max_number + 1)]\n",
    "\n",
    "\n",
    "def solve_sages_problem(max_number=100):\n",
    "    pairs = generate_pairs(max_number)\n",
    "\n",
    "\n",
    "    sum_to_pairs = {}\n",
    "    product_to_pairs = {}\n",
    "    for x, y in pairs:\n",
    "        s = x + y\n",
    "        p = x * y\n",
    "        if s not in sum_to_pairs:\n",
    "            sum_to_pairs[s] = []\n",
    "        sum_to_pairs[s].append((x, y))\n",
    "        if p not in product_to_pairs:\n",
    "            product_to_pairs[p] = []\n",
    "        product_to_pairs[p].append((x, y))\n",
    "\n",
    "\n",
    "    step1 = [p for p in pairs if len(product_to_pairs[p[0] * p[1]]) > 1]\n",
    "\n",
    "\n",
    "    step2 = []\n",
    "    for pair in step1:\n",
    "        s = pair[0] + pair[1]\n",
    "\n",
    "        valid = True\n",
    "        for p in sum_to_pairs[s]:\n",
    "            if p not in step1:\n",
    "                valid = False\n",
    "                break\n",
    "        if valid:\n",
    "            step2.append(pair)\n",
    "\n",
    "\n",
    "    product_count = {}\n",
    "    for p in step2:\n",
    "        prod = p[0] * p[1]\n",
    "        product_count[prod] = product_count.get(prod, 0) + 1\n",
    "    step3 = [p for p in step2 if product_count[p[0] * p[1]] == 1]\n",
    "\n",
    "\n",
    "    sum_count = {}\n",
    "    for p in step3:\n",
    "        s = p[0] + p[1]\n",
    "        sum_count[s] = sum_count.get(s, 0) + 1\n",
    "    step4 = [p for p in step3 if sum_count[p[0] + p[1]] == 1]\n",
    "\n",
    "    return step4\n",
    "\n",
    "result = solve_sages_problem()\n",
    "print(\"Можливі пари, що задовольняють умові:\", result)"
   ]
  },
  {
   "cell_type": "code",
   "execution_count": null,
   "id": "f7012c73-fcc8-4e00-9f2a-abdddbeee719",
   "metadata": {},
   "outputs": [],
   "source": []
  }
 ],
 "metadata": {
  "kernelspec": {
   "display_name": "Python 3 (ipykernel)",
   "language": "python",
   "name": "python3"
  },
  "language_info": {
   "codemirror_mode": {
    "name": "ipython",
    "version": 3
   },
   "file_extension": ".py",
   "mimetype": "text/x-python",
   "name": "python",
   "nbconvert_exporter": "python",
   "pygments_lexer": "ipython3",
   "version": "3.12.0"
  }
 },
 "nbformat": 4,
 "nbformat_minor": 5
}
