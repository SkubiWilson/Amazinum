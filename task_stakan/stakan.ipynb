{
 "cells": [
  {
   "cell_type": "code",
   "execution_count": 1,
   "id": "4abd067b-5620-49bd-9462-ac2ac933d662",
   "metadata": {},
   "outputs": [
    {
     "name": "stdin",
     "output_type": "stream",
     "text": [
      "Кількість стаканів:  2\n",
      "Кількість поверхів:  100\n"
     ]
    },
    {
     "name": "stdout",
     "output_type": "stream",
     "text": [
      "Мінімальна кількість кидків для 100 поверхів і 2 стаканів це: 14\n",
      "Стратегія кидків: [14, 27, 39, 50, 60, 69, 77, 84, 90, 95, 99]\n"
     ]
    },
    {
     "name": "stdin",
     "output_type": "stream",
     "text": [
      "Кількість стаканів:  3\n",
      "Кількість поверхів:  100\n"
     ]
    },
    {
     "name": "stdout",
     "output_type": "stream",
     "text": [
      "Мінімальна кількість кидків для 100 поверхів і 3 стаканів це: 9\n",
      "Стратегія кидків: [9, 17, 24, 30, 35, 39, 42, 44, 45]\n"
     ]
    },
    {
     "name": "stdin",
     "output_type": "stream",
     "text": [
      "Кількість стаканів:  5\n",
      "Кількість поверхів:  1000\n"
     ]
    },
    {
     "name": "stdout",
     "output_type": "stream",
     "text": [
      "Мінімальна кількість кидків для 1000 поверхів і 5 стаканів це: 11\n",
      "Стратегія кидків: [11, 21, 30, 38, 45, 51, 56, 60, 63, 65, 66]\n"
     ]
    }
   ],
   "source": [
    "import math\n",
    "import random\n",
    "\n",
    "def simulate():\n",
    "    stakan = random.randint(1, 100)\n",
    "    stakan_count = int(input(\"Кількість стаканів: \"))\n",
    "    level = int(input(\"Кількість поверхів: \"))\n",
    "\n",
    "    floors = [random.randint(1, 2000) for _ in range(level)]\n",
    "    floors_sort = sorted(floors)\n",
    "\n",
    "    def broke(value):\n",
    "        return value > stakan\n",
    "\n",
    "    def find_break_floor():\n",
    "        for i, val in enumerate(floors_sort):\n",
    "            if broke(val):\n",
    "                return i\n",
    "        return -1\n",
    "\n",
    "    break_index = find_break_floor()\n",
    "\n",
    "    def krok(n, k):\n",
    "        dp = [[0] * (k + 1) for _ in range(n + 1)]\n",
    "        m = 0\n",
    "        while dp[m][k] < n:\n",
    "            m += 1\n",
    "            for j in range(1, k + 1):\n",
    "                dp[m][j] = dp[m - 1][j - 1] + dp[m - 1][j] + 1\n",
    "        return m\n",
    "\n",
    "    def throw_strategy(n, k):\n",
    "        step = krok(n, k)\n",
    "        throws = []\n",
    "        floor = 0\n",
    "        for i in range(step, 0, -1):\n",
    "            floor += i\n",
    "            if floor > n:\n",
    "                break\n",
    "            throws.append(floor)\n",
    "        return throws\n",
    "\n",
    "    min_kroky = krok(level, stakan_count)\n",
    "    strategy = throw_strategy(level, stakan_count)\n",
    "\n",
    "    print(f\"Мінімальна кількість кидків для {level} поверхів і {stakan_count} стаканів це: {min_kroky}\")\n",
    "    print(f\"Стратегія кидків: {strategy}\")\n",
    "\n",
    "for _ in range(3):\n",
    "    simulate()\n"
   ]
  },
  {
   "cell_type": "code",
   "execution_count": null,
   "id": "bf4f064d-7110-487e-ac80-d5f2dd796398",
   "metadata": {},
   "outputs": [],
   "source": []
  }
 ],
 "metadata": {
  "kernelspec": {
   "display_name": "Python 3 (ipykernel)",
   "language": "python",
   "name": "python3"
  },
  "language_info": {
   "codemirror_mode": {
    "name": "ipython",
    "version": 3
   },
   "file_extension": ".py",
   "mimetype": "text/x-python",
   "name": "python",
   "nbconvert_exporter": "python",
   "pygments_lexer": "ipython3",
   "version": "3.12.0"
  }
 },
 "nbformat": 4,
 "nbformat_minor": 5
}
