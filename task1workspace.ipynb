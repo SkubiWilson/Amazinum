{
 "cells": [
  {
   "cell_type": "code",
   "execution_count": null,
   "id": "02926e33-71fa-477d-86f6-3a790a382525",
   "metadata": {},
   "outputs": [],
   "source": [
    "Ceheck Version"
   ]
  },
  {
   "cell_type": "code",
   "execution_count": 1,
   "id": "0b79be7a-2b53-44e7-ab51-871d26745728",
   "metadata": {},
   "outputs": [
    {
     "name": "stdout",
     "output_type": "stream",
     "text": [
      "Python 3.12.0\n"
     ]
    }
   ],
   "source": [
    "!python -V"
   ]
  },
  {
   "cell_type": "code",
   "execution_count": null,
   "id": "89d2ff81-0ad7-4da1-8a94-d1ea43f6ccdf",
   "metadata": {},
   "outputs": [],
   "source": [
    "Determine version"
   ]
  },
  {
   "cell_type": "code",
   "execution_count": 2,
   "id": "5fa53df1-51af-45ec-a85d-60e47077de68",
   "metadata": {},
   "outputs": [
    {
     "data": {
      "text/plain": [
       "'3.12.0'"
      ]
     },
     "execution_count": 2,
     "metadata": {},
     "output_type": "execute_result"
    }
   ],
   "source": [
    "import platform \n",
    "platform.python_version()"
   ]
  },
  {
   "cell_type": "code",
   "execution_count": null,
   "id": "3ffdeb31-0e07-4d95-889c-8eb9559bbff3",
   "metadata": {},
   "outputs": [],
   "source": [
    "Pip check"
   ]
  },
  {
   "cell_type": "code",
   "execution_count": 3,
   "id": "81008f2e-ffcf-4505-9428-60d35623ca93",
   "metadata": {},
   "outputs": [
    {
     "name": "stdout",
     "output_type": "stream",
     "text": [
      "pip 25.0.1 from C:\\Users\\Oleg\\AppData\\Local\\Programs\\Python\\Python312\\Lib\\site-packages\\pip (python 3.12)\n",
      "\n"
     ]
    }
   ],
   "source": [
    "!pip -V"
   ]
  },
  {
   "cell_type": "code",
   "execution_count": 4,
   "id": "6abd07a5-6801-49c1-824c-3b1bc2d12ee7",
   "metadata": {},
   "outputs": [
    {
     "name": "stdout",
     "output_type": "stream",
     "text": [
      "pip 25.0.1 from C:\\Users\\Oleg\\AppData\\Local\\Programs\\Python\\Python312\\Lib\\site-packages\\pip (python 3.12)\n",
      "\n"
     ]
    }
   ],
   "source": [
    "!pip3 -V"
   ]
  },
  {
   "cell_type": "code",
   "execution_count": null,
   "id": "c2f09d44-41fc-4be6-8943-1bbe128d6c20",
   "metadata": {},
   "outputs": [],
   "source": [
    "Instalation pack"
   ]
  },
  {
   "cell_type": "code",
   "execution_count": 5,
   "id": "14b987fb-2b1e-40e4-be1e-5e697033477c",
   "metadata": {},
   "outputs": [
    {
     "name": "stdout",
     "output_type": "stream",
     "text": [
      "Requirement already satisfied: bottom in c:\\users\\oleg\\appdata\\local\\programs\\python\\python312\\lib\\site-packages (2.2.0)\n",
      "Note: you may need to restart the kernel to use updated packages.\n"
     ]
    }
   ],
   "source": [
    "pip install bottom"
   ]
  },
  {
   "cell_type": "code",
   "execution_count": null,
   "id": "e7079d73-8bba-4c72-b195-b087aeba65d7",
   "metadata": {},
   "outputs": [],
   "source": [
    "Uninstall"
   ]
  },
  {
   "cell_type": "code",
   "execution_count": null,
   "id": "bb1a2d27-be75-4d23-a344-a304560081cd",
   "metadata": {},
   "outputs": [],
   "source": [
    "pip uninstall bottom"
   ]
  },
  {
   "cell_type": "code",
   "execution_count": null,
   "id": "ff2d941c-fd1b-4ab4-979d-b442723f9552",
   "metadata": {},
   "outputs": [],
   "source": [
    "Packages list"
   ]
  },
  {
   "cell_type": "code",
   "execution_count": 3,
   "id": "19c3499f-9097-4406-91d2-25e5edb79ded",
   "metadata": {},
   "outputs": [
    {
     "name": "stdout",
     "output_type": "stream",
     "text": [
      "Package                   Version\n",
      "------------------------- --------------\n",
      "altgraph                  0.17.4\n",
      "anyio                     4.8.0\n",
      "argon2-cffi               23.1.0\n",
      "argon2-cffi-bindings      21.2.0\n",
      "arrow                     1.3.0\n",
      "asgiref                   3.7.2\n",
      "asttokens                 3.0.0\n",
      "async-lru                 2.0.4\n",
      "attrs                     25.1.0\n",
      "auto-py-to-exe            2.42.0\n",
      "babel                     2.17.0\n",
      "beautifulsoup4            4.13.3\n",
      "bleach                    6.2.0\n",
      "bottle                    0.12.25\n",
      "bottle-websocket          0.2.9\n",
      "bottom                    2.2.0\n",
      "certifi                   2023.11.17\n",
      "cffi                      1.16.0\n",
      "chardet                   5.2.0\n",
      "charset-normalizer        3.3.2\n",
      "colorama                  0.4.6\n",
      "comm                      0.2.2\n",
      "contourpy                 1.2.0\n",
      "cycler                    0.12.1\n",
      "debugpy                   1.8.12\n",
      "decorator                 5.2.1\n",
      "defusedxml                0.7.1\n",
      "distlib                   0.3.9\n",
      "Django                    5.0\n",
      "djangorestframework       3.14.0\n",
      "Eel                       0.16.0\n",
      "executing                 2.2.0\n",
      "fastjsonschema            2.21.1\n",
      "filelock                  3.18.0\n",
      "fonttools                 4.46.0\n",
      "fqdn                      1.5.1\n",
      "future                    1.0.0\n",
      "gevent                    24.2.1\n",
      "gevent-websocket          0.10.1\n",
      "GPUtil                    1.4.0\n",
      "graphviz                  0.20.3\n",
      "greenlet                  3.0.3\n",
      "h11                       0.14.0\n",
      "httpcore                  1.0.7\n",
      "httpx                     0.28.1\n",
      "humanfriendly             10.0\n",
      "idna                      3.6\n",
      "ipykernel                 6.29.5\n",
      "ipython                   9.0.1\n",
      "ipython_pygments_lexers   1.1.1\n",
      "isoduration               20.11.0\n",
      "jedi                      0.19.2\n",
      "Jinja2                    3.1.5\n",
      "json5                     0.10.0\n",
      "jsonpointer               3.0.0\n",
      "jsonschema                4.23.0\n",
      "jsonschema-specifications 2024.10.1\n",
      "jupyter_client            8.6.3\n",
      "jupyter_core              5.7.2\n",
      "jupyter-events            0.12.0\n",
      "jupyter-lsp               2.2.5\n",
      "jupyter_server            2.15.0\n",
      "jupyter_server_terminals  0.5.3\n",
      "jupyterlab                4.3.5\n",
      "jupyterlab_pygments       0.3.0\n",
      "jupyterlab_server         2.27.3\n",
      "kiwisolver                1.4.5\n",
      "lxml                      5.3.0\n",
      "MarkupSafe                3.0.2\n",
      "matplotlib                3.8.2\n",
      "matplotlib-inline         0.1.7\n",
      "mistune                   3.1.2\n",
      "mpmath                    1.3.0\n",
      "nbclient                  0.10.2\n",
      "nbconvert                 7.16.6\n",
      "nbformat                  5.10.4\n",
      "nest-asyncio              1.6.0\n",
      "notebook                  7.3.2\n",
      "notebook_shim             0.2.4\n",
      "numpy                     1.26.2\n",
      "opencv-python             4.8.1.78\n",
      "overrides                 7.7.0\n",
      "packaging                 23.2\n",
      "pandas                    2.1.4\n",
      "pandocfilters             1.5.1\n",
      "parso                     0.8.4\n",
      "pefile                    2023.2.7\n",
      "Pillow                    10.1.0\n",
      "pip                       25.0.1\n",
      "platformdirs              4.3.6\n",
      "prometheus_client         0.21.1\n",
      "prompt_toolkit            3.0.50\n",
      "psutil                    5.9.7\n",
      "pure_eval                 0.2.3\n",
      "py-cpuinfo                9.0.0\n",
      "pycparser                 2.21\n",
      "Pygments                  2.19.1\n",
      "pyinstaller               6.5.0\n",
      "pyinstaller-hooks-contrib 2024.3\n",
      "pyparsing                 3.1.1\n",
      "PyQt5                     5.15.10\n",
      "PyQt5-Qt5                 5.15.2\n",
      "PyQt5-sip                 12.13.0\n",
      "pyreadline3               3.4.1\n",
      "PySide6                   6.6.3.1\n",
      "PySide6_Addons            6.6.3.1\n",
      "PySide6_Essentials        6.6.3.1\n",
      "pySMART                   1.3.0\n",
      "pytesseract               0.3.10\n",
      "python-dateutil           2.8.2\n",
      "python-docx               1.1.2\n",
      "python-json-logger        3.2.1\n",
      "pytz                      2023.3.post1\n",
      "pywin32                   306\n",
      "pywin32-ctypes            0.2.2\n",
      "pywinpty                  2.0.15\n",
      "PyYAML                    6.0.2\n",
      "pyzmq                     26.2.1\n",
      "referencing               0.36.2\n",
      "requests                  2.31.0\n",
      "rfc3339-validator         0.1.4\n",
      "rfc3986-validator         0.1.1\n",
      "rpds-py                   0.23.1\n",
      "scipy                     1.14.1\n",
      "seaborn                   0.13.2\n",
      "Send2Trash                1.8.3\n",
      "setuptools                68.2.2\n",
      "shiboken6                 6.6.3.1\n",
      "six                       1.16.0\n",
      "sniffio                   1.3.1\n",
      "soupsieve                 2.6\n",
      "speedtest-cli             2.1.3\n",
      "sqlparse                  0.4.4\n",
      "stack-data                0.6.3\n",
      "sympy                     1.13.3\n",
      "terminado                 0.18.1\n",
      "tesseract                 0.1.3\n",
      "tinycss2                  1.4.0\n",
      "tornado                   6.4.2\n",
      "traitlets                 5.14.3\n",
      "types-python-dateutil     2.9.0.20241206\n",
      "typing_extensions         4.12.2\n",
      "tzdata                    2023.3\n",
      "uri-template              1.3.0\n",
      "urllib3                   2.1.0\n",
      "virtualenv                20.29.3\n",
      "wcwidth                   0.2.13\n",
      "webcolors                 24.11.1\n",
      "webencodings              0.5.1\n",
      "websocket-client          1.8.0\n",
      "whichcraft                0.6.1\n",
      "WMI                       1.5.1\n",
      "zope.event                5.0\n",
      "zope.interface            6.2\n",
      "Note: you may need to restart the kernel to use updated packages.\n"
     ]
    }
   ],
   "source": [
    "pip list"
   ]
  },
  {
   "cell_type": "code",
   "execution_count": 4,
   "id": "d106fc11-56e7-4819-8e18-1f2b05a6fde3",
   "metadata": {},
   "outputs": [
    {
     "name": "stdout",
     "output_type": "stream",
     "text": [
      "altgraph==0.17.4\n",
      "anyio==4.8.0\n",
      "argon2-cffi==23.1.0\n",
      "argon2-cffi-bindings==21.2.0\n",
      "arrow==1.3.0\n",
      "asgiref==3.7.2\n",
      "asttokens==3.0.0\n",
      "async-lru==2.0.4\n",
      "attrs==25.1.0\n",
      "auto-py-to-exe==2.42.0\n",
      "babel==2.17.0\n",
      "beautifulsoup4==4.13.3\n",
      "bleach==6.2.0\n",
      "bottle==0.12.25\n",
      "bottle-websocket==0.2.9\n",
      "bottom==2.2.0\n",
      "certifi==2023.11.17\n",
      "cffi==1.16.0\n",
      "chardet==5.2.0\n",
      "charset-normalizer==3.3.2\n",
      "colorama==0.4.6\n",
      "comm==0.2.2\n",
      "contourpy==1.2.0\n",
      "cycler==0.12.1\n",
      "debugpy==1.8.12\n",
      "decorator==5.2.1\n",
      "defusedxml==0.7.1\n",
      "distlib==0.3.9\n",
      "Django==5.0\n",
      "djangorestframework==3.14.0\n",
      "Eel==0.16.0\n",
      "executing==2.2.0\n",
      "fastjsonschema==2.21.1\n",
      "filelock==3.18.0\n",
      "fonttools==4.46.0\n",
      "fqdn==1.5.1\n",
      "future==1.0.0\n",
      "gevent==24.2.1\n",
      "gevent-websocket==0.10.1\n",
      "GPUtil==1.4.0\n",
      "graphviz==0.20.3\n",
      "greenlet==3.0.3\n",
      "h11==0.14.0\n",
      "httpcore==1.0.7\n",
      "httpx==0.28.1\n",
      "humanfriendly==10.0\n",
      "idna==3.6\n",
      "ipykernel==6.29.5\n",
      "ipython==9.0.1\n",
      "ipython_pygments_lexers==1.1.1\n",
      "isoduration==20.11.0\n",
      "jedi==0.19.2\n",
      "Jinja2==3.1.5\n",
      "json5==0.10.0\n",
      "jsonpointer==3.0.0\n",
      "jsonschema==4.23.0\n",
      "jsonschema-specifications==2024.10.1\n",
      "jupyter-events==0.12.0\n",
      "jupyter-lsp==2.2.5\n",
      "jupyter_client==8.6.3\n",
      "jupyter_core==5.7.2\n",
      "jupyter_server==2.15.0\n",
      "jupyter_server_terminals==0.5.3\n",
      "jupyterlab==4.3.5\n",
      "jupyterlab_pygments==0.3.0\n",
      "jupyterlab_server==2.27.3\n",
      "kiwisolver==1.4.5\n",
      "lxml==5.3.0\n",
      "MarkupSafe==3.0.2\n",
      "matplotlib==3.8.2\n",
      "matplotlib-inline==0.1.7\n",
      "mistune==3.1.2\n",
      "mpmath==1.3.0\n",
      "nbclient==0.10.2\n",
      "nbconvert==7.16.6\n",
      "nbformat==5.10.4\n",
      "nest-asyncio==1.6.0\n",
      "notebook==7.3.2\n",
      "notebook_shim==0.2.4\n",
      "numpy==1.26.2\n",
      "opencv-python==4.8.1.78\n",
      "overrides==7.7.0\n",
      "packaging==23.2\n",
      "pandas==2.1.4\n",
      "pandocfilters==1.5.1\n",
      "parso==0.8.4\n",
      "pefile==2023.2.7\n",
      "Pillow==10.1.0\n",
      "platformdirs==4.3.6\n",
      "prometheus_client==0.21.1\n",
      "prompt_toolkit==3.0.50\n",
      "psutil==5.9.7\n",
      "pure_eval==0.2.3\n",
      "py-cpuinfo==9.0.0\n",
      "pycparser==2.21\n",
      "Pygments==2.19.1\n",
      "pyinstaller==6.5.0\n",
      "pyinstaller-hooks-contrib==2024.3\n",
      "pyparsing==3.1.1\n",
      "PyQt5==5.15.10\n",
      "PyQt5-Qt5==5.15.2\n",
      "PyQt5-sip==12.13.0\n",
      "pyreadline3==3.4.1\n",
      "PySide6==6.6.3.1\n",
      "PySide6_Addons==6.6.3.1\n",
      "PySide6_Essentials==6.6.3.1\n",
      "pySMART==1.3.0\n",
      "pytesseract==0.3.10\n",
      "python-dateutil==2.8.2\n",
      "python-docx==1.1.2\n",
      "python-json-logger==3.2.1\n",
      "pytz==2023.3.post1\n",
      "pywin32==306\n",
      "pywin32-ctypes==0.2.2\n",
      "pywinpty==2.0.15\n",
      "PyYAML==6.0.2\n",
      "pyzmq==26.2.1\n",
      "referencing==0.36.2\n",
      "requests==2.31.0\n",
      "rfc3339-validator==0.1.4\n",
      "rfc3986-validator==0.1.1\n",
      "rpds-py==0.23.1\n",
      "scipy==1.14.1\n",
      "seaborn==0.13.2\n",
      "Send2Trash==1.8.3\n",
      "setuptools==68.2.2\n",
      "shiboken6==6.6.3.1\n",
      "six==1.16.0\n",
      "sniffio==1.3.1\n",
      "soupsieve==2.6\n",
      "speedtest-cli==2.1.3\n",
      "sqlparse==0.4.4\n",
      "stack-data==0.6.3\n",
      "sympy==1.13.3\n",
      "terminado==0.18.1\n",
      "tesseract==0.1.3\n",
      "tinycss2==1.4.0\n",
      "tornado==6.4.2\n",
      "traitlets==5.14.3\n",
      "types-python-dateutil==2.9.0.20241206\n",
      "typing_extensions==4.12.2\n",
      "tzdata==2023.3\n",
      "uri-template==1.3.0\n",
      "urllib3==2.1.0\n",
      "virtualenv==20.29.3\n",
      "wcwidth==0.2.13\n",
      "webcolors==24.11.1\n",
      "webencodings==0.5.1\n",
      "websocket-client==1.8.0\n",
      "whichcraft==0.6.1\n",
      "WMI==1.5.1\n",
      "zope.event==5.0\n",
      "zope.interface==6.2\n",
      "Note: you may need to restart the kernel to use updated packages.\n"
     ]
    }
   ],
   "source": [
    "pip freeze"
   ]
  },
  {
   "cell_type": "code",
   "execution_count": null,
   "id": "b31627c8-aea4-48b6-bbf4-caebaad48e9d",
   "metadata": {},
   "outputs": [],
   "source": [
    "Virtualization"
   ]
  },
  {
   "cell_type": "code",
   "execution_count": 1,
   "id": "d97db078-3ccf-41f8-9425-ae3cb55a2f84",
   "metadata": {},
   "outputs": [
    {
     "name": "stdout",
     "output_type": "stream",
     "text": [
      "Requirement already satisfied: virtualenv in c:\\users\\oleg\\appdata\\local\\programs\\python\\python312\\lib\\site-packages (20.29.3)\n",
      "Requirement already satisfied: distlib<1,>=0.3.7 in c:\\users\\oleg\\appdata\\local\\programs\\python\\python312\\lib\\site-packages (from virtualenv) (0.3.9)\n",
      "Requirement already satisfied: filelock<4,>=3.12.2 in c:\\users\\oleg\\appdata\\local\\programs\\python\\python312\\lib\\site-packages (from virtualenv) (3.18.0)\n",
      "Requirement already satisfied: platformdirs<5,>=3.9.1 in c:\\users\\oleg\\appdata\\local\\programs\\python\\python312\\lib\\site-packages (from virtualenv) (4.3.6)\n",
      "Note: you may need to restart the kernel to use updated packages.\n"
     ]
    }
   ],
   "source": [
    "pip install virtualenv"
   ]
  },
  {
   "cell_type": "code",
   "execution_count": 1,
   "id": "b58c2e5e-090d-4be0-9626-3bb76b85e7c2",
   "metadata": {},
   "outputs": [
    {
     "ename": "SyntaxError",
     "evalue": "invalid syntax (2824974182.py, line 1)",
     "output_type": "error",
     "traceback": [
      "  \u001b[36mCell\u001b[39m\u001b[36m \u001b[39m\u001b[32mIn[1]\u001b[39m\u001b[32m, line 1\u001b[39m\n\u001b[31m    \u001b[39m\u001b[31mvirtualenv new_env\u001b[39m\n               ^\n\u001b[31mSyntaxError\u001b[39m\u001b[31m:\u001b[39m invalid syntax\n"
     ]
    }
   ],
   "source": [
    "virtualenv new_env"
   ]
  },
  {
   "cell_type": "code",
   "execution_count": 2,
   "id": "4b6377a2-863a-4ce6-81fb-bd276e32992c",
   "metadata": {},
   "outputs": [
    {
     "ename": "ValueError",
     "evalue": "The python kernel does not appear to be a conda environment.  Please use ``%pip install`` instead.",
     "output_type": "error",
     "traceback": [
      "\u001b[31m---------------------------------------------------------------------------\u001b[39m",
      "\u001b[31mValueError\u001b[39m                                Traceback (most recent call last)",
      "\u001b[36mCell\u001b[39m\u001b[36m \u001b[39m\u001b[32mIn[2]\u001b[39m\u001b[32m, line 1\u001b[39m\n\u001b[32m----> \u001b[39m\u001b[32m1\u001b[39m \u001b[43mget_ipython\u001b[49m\u001b[43m(\u001b[49m\u001b[43m)\u001b[49m\u001b[43m.\u001b[49m\u001b[43mrun_line_magic\u001b[49m\u001b[43m(\u001b[49m\u001b[33;43m'\u001b[39;49m\u001b[33;43mconda\u001b[39;49m\u001b[33;43m'\u001b[39;49m\u001b[43m,\u001b[49m\u001b[43m \u001b[49m\u001b[33;43m'\u001b[39;49m\u001b[33;43m--version\u001b[39;49m\u001b[33;43m'\u001b[39;49m\u001b[43m)\u001b[49m\n",
      "\u001b[36mFile \u001b[39m\u001b[32m~\\AppData\\Local\\Programs\\Python\\Python312\\Lib\\site-packages\\IPython\\core\\interactiveshell.py:2478\u001b[39m, in \u001b[36mInteractiveShell.run_line_magic\u001b[39m\u001b[34m(self, magic_name, line, _stack_depth)\u001b[39m\n\u001b[32m   2476\u001b[39m     kwargs[\u001b[33m'\u001b[39m\u001b[33mlocal_ns\u001b[39m\u001b[33m'\u001b[39m] = \u001b[38;5;28mself\u001b[39m.get_local_scope(stack_depth)\n\u001b[32m   2477\u001b[39m \u001b[38;5;28;01mwith\u001b[39;00m \u001b[38;5;28mself\u001b[39m.builtin_trap:\n\u001b[32m-> \u001b[39m\u001b[32m2478\u001b[39m     result = \u001b[43mfn\u001b[49m\u001b[43m(\u001b[49m\u001b[43m*\u001b[49m\u001b[43margs\u001b[49m\u001b[43m,\u001b[49m\u001b[43m \u001b[49m\u001b[43m*\u001b[49m\u001b[43m*\u001b[49m\u001b[43mkwargs\u001b[49m\u001b[43m)\u001b[49m\n\u001b[32m   2480\u001b[39m \u001b[38;5;66;03m# The code below prevents the output from being displayed\u001b[39;00m\n\u001b[32m   2481\u001b[39m \u001b[38;5;66;03m# when using magics with decorator @output_can_be_silenced\u001b[39;00m\n\u001b[32m   2482\u001b[39m \u001b[38;5;66;03m# when the last Python token in the expression is a ';'.\u001b[39;00m\n\u001b[32m   2483\u001b[39m \u001b[38;5;28;01mif\u001b[39;00m \u001b[38;5;28mgetattr\u001b[39m(fn, magic.MAGIC_OUTPUT_CAN_BE_SILENCED, \u001b[38;5;28;01mFalse\u001b[39;00m):\n",
      "\u001b[36mFile \u001b[39m\u001b[32m~\\AppData\\Local\\Programs\\Python\\Python312\\Lib\\site-packages\\IPython\\core\\magics\\packaging.py:27\u001b[39m, in \u001b[36mis_conda_environment.<locals>.wrapper\u001b[39m\u001b[34m(*args, **kwargs)\u001b[39m\n\u001b[32m     25\u001b[39m \u001b[38;5;66;03m# TODO: does this need to change on windows?\u001b[39;00m\n\u001b[32m     26\u001b[39m \u001b[38;5;28;01mif\u001b[39;00m \u001b[38;5;129;01mnot\u001b[39;00m Path(sys.prefix, \u001b[33m\"\u001b[39m\u001b[33mconda-meta\u001b[39m\u001b[33m\"\u001b[39m, \u001b[33m\"\u001b[39m\u001b[33mhistory\u001b[39m\u001b[33m\"\u001b[39m).exists():\n\u001b[32m---> \u001b[39m\u001b[32m27\u001b[39m     \u001b[38;5;28;01mraise\u001b[39;00m \u001b[38;5;167;01mValueError\u001b[39;00m(\n\u001b[32m     28\u001b[39m         \u001b[33m\"\u001b[39m\u001b[33mThe python kernel does not appear to be a conda environment.  \u001b[39m\u001b[33m\"\u001b[39m\n\u001b[32m     29\u001b[39m         \u001b[33m\"\u001b[39m\u001b[33mPlease use ``\u001b[39m\u001b[33m%\u001b[39m\u001b[33mpip install`` instead.\u001b[39m\u001b[33m\"\u001b[39m\n\u001b[32m     30\u001b[39m     )\n\u001b[32m     31\u001b[39m \u001b[38;5;28;01mreturn\u001b[39;00m func(*args, **kwargs)\n",
      "\u001b[31mValueError\u001b[39m: The python kernel does not appear to be a conda environment.  Please use ``%pip install`` instead."
     ]
    }
   ],
   "source": [
    "conda --version"
   ]
  },
  {
   "cell_type": "code",
   "execution_count": null,
   "id": "ccc66930-fe76-4ab7-90ae-6c59d5c47450",
   "metadata": {},
   "outputs": [],
   "source": []
  }
 ],
 "metadata": {
  "kernelspec": {
   "display_name": "Python 3 (ipykernel)",
   "language": "python",
   "name": "python3"
  },
  "language_info": {
   "codemirror_mode": {
    "name": "ipython",
    "version": 3
   },
   "file_extension": ".py",
   "mimetype": "text/x-python",
   "name": "python",
   "nbconvert_exporter": "python",
   "pygments_lexer": "ipython3",
   "version": "3.12.0"
  }
 },
 "nbformat": 4,
 "nbformat_minor": 5
}
