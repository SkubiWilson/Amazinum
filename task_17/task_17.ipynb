{
 "cells": [
  {
   "cell_type": "code",
   "execution_count": 1,
   "id": "26bd4658-a861-48d5-8716-8222223898a6",
   "metadata": {},
   "outputs": [
    {
     "name": "stdout",
     "output_type": "stream",
     "text": [
      "Знайдено 126 частих наборів\n",
      "Знайдено 74 правил\n",
      "           antecedents         consequents   support  confidence      lift\n",
      "12       (frankfurter)  (other vegetables)  0.005146    0.136283  1.116150\n",
      "13  (other vegetables)       (frankfurter)  0.005146    0.042146  1.116150\n",
      "59           (sausage)            (yogurt)  0.005748    0.095238  1.108986\n",
      "58            (yogurt)           (sausage)  0.005748    0.066926  1.108986\n",
      "54           (sausage)              (soda)  0.005948    0.098560  1.014975\n",
      "55              (soda)           (sausage)  0.005948    0.061253  1.014975\n",
      "0         (whole milk)      (bottled beer)  0.007151    0.045281  0.999330\n",
      "1       (bottled beer)        (whole milk)  0.007151    0.157817  0.999330\n",
      "57           (sausage)        (whole milk)  0.008955    0.148394  0.939663\n",
      "56        (whole milk)           (sausage)  0.008955    0.056708  0.939663\n"
     ]
    }
   ],
   "source": [
    "import pandas as pd\n",
    "from mlxtend.frequent_patterns import apriori, association_rules\n",
    "from mlxtend.preprocessing import TransactionEncoder\n",
    "\n",
    "df = pd.read_csv('Groceries_dataset.csv')\n",
    "\n",
    "transactions = df.groupby(['Member_number', 'Date'])['itemDescription'].apply(list)\n",
    "\n",
    "\n",
    "te = TransactionEncoder()\n",
    "te_ary = te.fit(transactions).transform(transactions)\n",
    "df_trans = pd.DataFrame(te_ary, columns=te.columns_)\n",
    "\n",
    "frequent_itemsets = apriori(df_trans, min_support=0.005, use_colnames=True)\n",
    "\n",
    "print(f\"Знайдено {len(frequent_itemsets)} частих наборів\")\n",
    "\n",
    "rules = association_rules(frequent_itemsets, metric=\"lift\", min_threshold=0.5)\n",
    "\n",
    "print(f\"Знайдено {len(rules)} правил\")\n",
    "top_10_rules = rules.sort_values('lift', ascending=False).head(10)\n",
    "print(top_10_rules[['antecedents', 'consequents', 'support', 'confidence', 'lift']])\n",
    "\n"
   ]
  },
  {
   "cell_type": "code",
   "execution_count": null,
   "id": "ecc79247-3351-4691-a95e-513d6a150e5e",
   "metadata": {},
   "outputs": [],
   "source": []
  }
 ],
 "metadata": {
  "kernelspec": {
   "display_name": "Python 3 (ipykernel)",
   "language": "python",
   "name": "python3"
  },
  "language_info": {
   "codemirror_mode": {
    "name": "ipython",
    "version": 3
   },
   "file_extension": ".py",
   "mimetype": "text/x-python",
   "name": "python",
   "nbconvert_exporter": "python",
   "pygments_lexer": "ipython3",
   "version": "3.12.1"
  }
 },
 "nbformat": 4,
 "nbformat_minor": 5
}
